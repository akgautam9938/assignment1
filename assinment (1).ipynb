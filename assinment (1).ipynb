{
 "cells": [
  {
   "cell_type": "code",
   "execution_count": 4,
   "id": "b19ac8a7-52f7-41ae-a59b-9722c39a64cf",
   "metadata": {},
   "outputs": [],
   "source": [
    "q1=[ \"abhi\",\"assignment\", 75.85,(92,3,5), 3+5j]"
   ]
  },
  {
   "cell_type": "code",
   "execution_count": 5,
   "id": "0a348303-f152-466b-986b-eddb06153e4f",
   "metadata": {},
   "outputs": [
    {
     "name": "stdout",
     "output_type": "stream",
     "text": [
      "<class 'str'>\n",
      "<class 'str'>\n",
      "<class 'float'>\n",
      "<class 'tuple'>\n",
      "<class 'complex'>\n"
     ]
    }
   ],
   "source": [
    "for i in q1 :\n",
    "    print(type(i))"
   ]
  },
  {
   "cell_type": "code",
   "execution_count": 3,
   "id": "65fbddb1-a212-464f-8078-a9acf131ac64",
   "metadata": {},
   "outputs": [
    {
     "data": {
      "text/plain": [
       "list"
      ]
     },
     "execution_count": 3,
     "metadata": {},
     "output_type": "execute_result"
    }
   ],
   "source": [
    "type(q1)"
   ]
  },
  {
   "cell_type": "code",
   "execution_count": 24,
   "id": "b8bc6b17-34ff-4284-a52d-60d12a52f40c",
   "metadata": {},
   "outputs": [],
   "source": [
    "#q2"
   ]
  },
  {
   "cell_type": "code",
   "execution_count": 8,
   "id": "6a7ecc97-b1a8-40d2-ba8a-1d225019f60b",
   "metadata": {},
   "outputs": [],
   "source": [
    "a= ''"
   ]
  },
  {
   "cell_type": "code",
   "execution_count": 9,
   "id": "aeb40b3c-2323-4df5-b50b-f78f2e4b2ecb",
   "metadata": {},
   "outputs": [
    {
     "data": {
      "text/plain": [
       "str"
      ]
     },
     "execution_count": 9,
     "metadata": {},
     "output_type": "execute_result"
    }
   ],
   "source": [
    "type(a)"
   ]
  },
  {
   "cell_type": "code",
   "execution_count": 13,
   "id": "047cc51a-57db-4bc0-9a1b-14896fb6dc8f",
   "metadata": {},
   "outputs": [
    {
     "ename": "NameError",
     "evalue": "name 'DS' is not defined",
     "output_type": "error",
     "traceback": [
      "\u001b[0;31m---------------------------------------------------------------------------\u001b[0m",
      "\u001b[0;31mNameError\u001b[0m                                 Traceback (most recent call last)",
      "Cell \u001b[0;32mIn[22], line 1\u001b[0m\n\u001b[0;32m----> 1\u001b[0m b\u001b[38;5;241m=\u001b[39m [\u001b[43mDS\u001b[49m,ML,Python]\n",
      "\u001b[0;31mNameError\u001b[0m: name 'DS' is not defined"
     ]
    }
   ],
   "source": [
    "b= ‘[ DS , ML , Python]’"
   ]
  },
  {
   "cell_type": "code",
   "execution_count": 15,
   "id": "99549d5b-38fd-45a4-9a64-94fdea8f8d7d",
   "metadata": {},
   "outputs": [],
   "source": [
    "d = 1"
   ]
  },
  {
   "cell_type": "code",
   "execution_count": 16,
   "id": "301687cd-e2e4-459f-b8e4-ce7e0a342114",
   "metadata": {},
   "outputs": [
    {
     "data": {
      "text/plain": [
       "int"
      ]
     },
     "execution_count": 16,
     "metadata": {},
     "output_type": "execute_result"
    }
   ],
   "source": [
    "type(d)"
   ]
  },
  {
   "cell_type": "code",
   "execution_count": 19,
   "id": "f0712a9e-10a8-4446-b611-e66c97ed5a17",
   "metadata": {},
   "outputs": [],
   "source": [
    "c= ['DS', 'ML', 'Python' ]"
   ]
  },
  {
   "cell_type": "code",
   "execution_count": 23,
   "id": "d93324ae-4663-4d90-a710-77e1ea622f5f",
   "metadata": {},
   "outputs": [
    {
     "data": {
      "text/plain": [
       "list"
      ]
     },
     "execution_count": 23,
     "metadata": {},
     "output_type": "execute_result"
    }
   ],
   "source": [
    "type(c)"
   ]
  },
  {
   "cell_type": "code",
   "execution_count": 25,
   "id": "8265ef6c-3894-430c-9773-a3fe965874c0",
   "metadata": {},
   "outputs": [],
   "source": [
    "#q3"
   ]
  },
  {
   "cell_type": "code",
   "execution_count": 26,
   "id": "d6f88f8f-91f7-4bd6-b31c-c36394767c18",
   "metadata": {},
   "outputs": [],
   "source": [
    "# (i) \"/\" = division{ it gives the original value after decimal point} while (iii) \"//\" division floor [it neglect the decimal point ] "
   ]
  },
  {
   "cell_type": "code",
   "execution_count": 28,
   "id": "e318775d-8f24-453a-8a71-e14a91086ec1",
   "metadata": {},
   "outputs": [],
   "source": [
    "#example 1. /"
   ]
  },
  {
   "cell_type": "code",
   "execution_count": 29,
   "id": "d3daa7e6-9634-43fb-a8ab-05e9c8868131",
   "metadata": {},
   "outputs": [
    {
     "data": {
      "text/plain": [
       "2.5"
      ]
     },
     "execution_count": 29,
     "metadata": {},
     "output_type": "execute_result"
    }
   ],
   "source": [
    "5/2"
   ]
  },
  {
   "cell_type": "code",
   "execution_count": 30,
   "id": "05683d00-fc43-4122-ac3c-c692cc698cc3",
   "metadata": {},
   "outputs": [
    {
     "data": {
      "text/plain": [
       "2.5"
      ]
     },
     "execution_count": 30,
     "metadata": {},
     "output_type": "execute_result"
    }
   ],
   "source": [
    "5/2.0"
   ]
  },
  {
   "cell_type": "code",
   "execution_count": 31,
   "id": "febc67c2-7a44-43cb-8bb5-08da77ded106",
   "metadata": {},
   "outputs": [],
   "source": [
    "#example (i).//"
   ]
  },
  {
   "cell_type": "code",
   "execution_count": 32,
   "id": "195a7924-be3e-4784-9a36-09b7be6cb0f6",
   "metadata": {},
   "outputs": [
    {
     "data": {
      "text/plain": [
       "2"
      ]
     },
     "execution_count": 32,
     "metadata": {},
     "output_type": "execute_result"
    }
   ],
   "source": [
    "5//2"
   ]
  },
  {
   "cell_type": "code",
   "execution_count": 33,
   "id": "247cf9ab-d2ad-433e-ad0f-2eddd6d942a6",
   "metadata": {},
   "outputs": [
    {
     "data": {
      "text/plain": [
       "2.0"
      ]
     },
     "execution_count": 33,
     "metadata": {},
     "output_type": "execute_result"
    }
   ],
   "source": [
    "5//2.0"
   ]
  },
  {
   "cell_type": "code",
   "execution_count": 47,
   "id": "d7bfa479-1e38-4243-857c-e141e3a76bc9",
   "metadata": {},
   "outputs": [],
   "source": [
    "# (ii) % = modulus operator [it gives remender value or if input value is less then division value then it return the input  value itself]"
   ]
  },
  {
   "cell_type": "code",
   "execution_count": 35,
   "id": "219a3cfd-bd9b-400f-9af5-8654f840bfea",
   "metadata": {},
   "outputs": [],
   "source": [
    "#example "
   ]
  },
  {
   "cell_type": "code",
   "execution_count": 36,
   "id": "36f946ad-569f-41f3-9cb0-464e760bf53b",
   "metadata": {},
   "outputs": [
    {
     "data": {
      "text/plain": [
       "2"
      ]
     },
     "execution_count": 36,
     "metadata": {},
     "output_type": "execute_result"
    }
   ],
   "source": [
    "22%5"
   ]
  },
  {
   "cell_type": "code",
   "execution_count": 46,
   "id": "2c5eae9c-9abc-4cde-a51a-e9d8cebfe16b",
   "metadata": {},
   "outputs": [],
   "source": [
    "#remender is 2"
   ]
  },
  {
   "cell_type": "code",
   "execution_count": 37,
   "id": "3fa889b2-e933-4507-9f61-a3540fda24b5",
   "metadata": {},
   "outputs": [
    {
     "data": {
      "text/plain": [
       "4"
      ]
     },
     "execution_count": 37,
     "metadata": {},
     "output_type": "execute_result"
    }
   ],
   "source": [
    "4%5"
   ]
  },
  {
   "cell_type": "code",
   "execution_count": null,
   "id": "4a4d033a-4ee0-468b-8485-b35ba5405d6e",
   "metadata": {},
   "outputs": [],
   "source": [
    "#input(4) value is less then (5) therefore answer=4"
   ]
  },
  {
   "cell_type": "code",
   "execution_count": 38,
   "id": "42d225ab-a6a4-416a-8561-6f36fbff96aa",
   "metadata": {},
   "outputs": [
    {
     "data": {
      "text/plain": [
       "8"
      ]
     },
     "execution_count": 38,
     "metadata": {},
     "output_type": "execute_result"
    }
   ],
   "source": [
    "8%9"
   ]
  },
  {
   "cell_type": "code",
   "execution_count": 44,
   "id": "c690db7b-432a-41a1-9b75-5059bc697207",
   "metadata": {},
   "outputs": [],
   "source": [
    "#input(8) value is less then (9) therefore answer=8 "
   ]
  },
  {
   "cell_type": "code",
   "execution_count": 39,
   "id": "7786745d-8f05-45f2-a4d9-d53f5cc27423",
   "metadata": {},
   "outputs": [
    {
     "data": {
      "text/plain": [
       "0"
      ]
     },
     "execution_count": 39,
     "metadata": {},
     "output_type": "execute_result"
    }
   ],
   "source": [
    "30%6"
   ]
  },
  {
   "cell_type": "code",
   "execution_count": 42,
   "id": "3d9a2a13-77e1-448f-a69e-95b6491aba9b",
   "metadata": {},
   "outputs": [],
   "source": [
    "#here remender is zero"
   ]
  },
  {
   "cell_type": "code",
   "execution_count": 52,
   "id": "c948e9b5-e53e-4353-98c9-bd2781501de3",
   "metadata": {},
   "outputs": [],
   "source": [
    "#(iv). **= exponent operator (basically it is a cube of input number)"
   ]
  },
  {
   "cell_type": "code",
   "execution_count": 49,
   "id": "c23fc9c5-9dee-4767-a971-2ef25901f795",
   "metadata": {},
   "outputs": [],
   "source": [
    "#example"
   ]
  },
  {
   "cell_type": "code",
   "execution_count": 50,
   "id": "26fc596e-6e0a-43d2-979d-a1e979c3b0c2",
   "metadata": {},
   "outputs": [
    {
     "data": {
      "text/plain": [
       "8"
      ]
     },
     "execution_count": 50,
     "metadata": {},
     "output_type": "execute_result"
    }
   ],
   "source": [
    "2**3"
   ]
  },
  {
   "cell_type": "code",
   "execution_count": 51,
   "id": "0ebeaf78-9e10-44e5-9822-5fdab7f39578",
   "metadata": {},
   "outputs": [
    {
     "data": {
      "text/plain": [
       "27"
      ]
     },
     "execution_count": 51,
     "metadata": {},
     "output_type": "execute_result"
    }
   ],
   "source": [
    "3**3"
   ]
  },
  {
   "cell_type": "code",
   "execution_count": 53,
   "id": "e0aaac10-9c2d-4cb6-b10a-682e2ffd9357",
   "metadata": {},
   "outputs": [],
   "source": [
    "#Q4"
   ]
  },
  {
   "cell_type": "code",
   "execution_count": 55,
   "id": "c59414f3-a17a-4323-b6a0-12110c6208e5",
   "metadata": {},
   "outputs": [],
   "source": [
    "l=[2,3,4,5,6,\"abhishek\",\"pwskills\",58.568,3+5j,True]"
   ]
  },
  {
   "cell_type": "code",
   "execution_count": 58,
   "id": "a997128e-35e1-4688-955b-ed13b79e94d3",
   "metadata": {},
   "outputs": [
    {
     "name": "stdout",
     "output_type": "stream",
     "text": [
      "<class 'int'>\n",
      "2\n",
      "<class 'int'>\n",
      "3\n",
      "<class 'int'>\n",
      "4\n",
      "<class 'int'>\n",
      "5\n",
      "<class 'int'>\n",
      "6\n",
      "<class 'str'>\n",
      "abhishek\n",
      "<class 'str'>\n",
      "pwskills\n",
      "<class 'float'>\n",
      "58.568\n",
      "<class 'complex'>\n",
      "(3+5j)\n",
      "<class 'bool'>\n",
      "True\n"
     ]
    }
   ],
   "source": [
    "for i in l :\n",
    "    print(type(i))\n",
    "    print(i)"
   ]
  },
  {
   "cell_type": "code",
   "execution_count": 1,
   "id": "f243f50e-8ad0-4a05-a27f-1e0f4cb20777",
   "metadata": {},
   "outputs": [],
   "source": [
    "#q5"
   ]
  },
  {
   "cell_type": "code",
   "execution_count": 5,
   "id": "b7faac2e-27dd-406a-82f2-e88ec69b2031",
   "metadata": {},
   "outputs": [
    {
     "name": "stdin",
     "output_type": "stream",
     "text": [
      "enter the number A 36\n",
      "enter the number B 18\n"
     ]
    },
    {
     "name": "stdout",
     "output_type": "stream",
     "text": [
      "number A is divisible by B\n",
      " It can be divided 1 times\n"
     ]
    }
   ],
   "source": [
    "A= int(input(\"enter the number A\"))\n",
    "B= int(input(\"enter the number B\"))\n",
    "divisible_count = 0\n",
    "while A%B ==0 :\n",
    "    A/=B\n",
    "    divisible_count +=1\n",
    "    \n",
    "    if divisible_count>0 :\n",
    "        print(\"number A is divisible by B\")\n",
    "        print (\" It can be divided\", divisible_count, \"times\")\n",
    "    else :\n",
    "        print (\"number A is not divisible by B\")"
   ]
  },
  {
   "cell_type": "code",
   "execution_count": 3,
   "id": "b27b6f34-f234-4a7e-885b-e2faca09db10",
   "metadata": {},
   "outputs": [],
   "source": [
    "#Q6"
   ]
  },
  {
   "cell_type": "code",
   "execution_count": 17,
   "id": "b0864afa-f72d-4637-a209-a0a62be4c062",
   "metadata": {},
   "outputs": [],
   "source": [
    "l = list(range(1,26))"
   ]
  },
  {
   "cell_type": "code",
   "execution_count": 24,
   "id": "9a80878e-417a-4507-a859-3ca5caf37612",
   "metadata": {},
   "outputs": [
    {
     "name": "stdout",
     "output_type": "stream",
     "text": [
      "1 is not divisible by 3\n",
      "2 is not divisible by 3\n",
      "3  is divisible by 3\n",
      "4 is not divisible by 3\n",
      "5 is not divisible by 3\n",
      "6  is divisible by 3\n",
      "7 is not divisible by 3\n",
      "8 is not divisible by 3\n",
      "9  is divisible by 3\n",
      "10 is not divisible by 3\n",
      "11 is not divisible by 3\n",
      "12  is divisible by 3\n",
      "13 is not divisible by 3\n",
      "14 is not divisible by 3\n",
      "15  is divisible by 3\n",
      "16 is not divisible by 3\n",
      "17 is not divisible by 3\n",
      "18  is divisible by 3\n",
      "19 is not divisible by 3\n",
      "20 is not divisible by 3\n",
      "21  is divisible by 3\n",
      "22 is not divisible by 3\n",
      "23 is not divisible by 3\n",
      "24  is divisible by 3\n",
      "25 is not divisible by 3\n"
     ]
    }
   ],
   "source": [
    "l= list(range(1,26))\n",
    "\n",
    "for i in l :\n",
    "    if i % 3 ==0 :\n",
    "        print (i, \" is divisible by 3\")\n",
    "    else :\n",
    "        print(i, \"is not divisible by 3\")\n",
    "    "
   ]
  },
  {
   "cell_type": "code",
   "execution_count": 25,
   "id": "7f4d9230-8d8a-4cea-94d2-629f0b5dd9c8",
   "metadata": {},
   "outputs": [],
   "source": [
    "#q7"
   ]
  },
  {
   "cell_type": "code",
   "execution_count": 26,
   "id": "5f22cce0-f18e-4a4b-a8c7-f6f90b5f64e6",
   "metadata": {},
   "outputs": [],
   "source": [
    "s=\"abhishek\""
   ]
  },
  {
   "cell_type": "code",
   "execution_count": 27,
   "id": "5d08dbf5-2d78-414e-97d6-6278919079cb",
   "metadata": {},
   "outputs": [],
   "source": [
    "l=[2,3,4,6,\"abhi\",\"gautam\",800,75.69,True]"
   ]
  },
  {
   "cell_type": "code",
   "execution_count": 28,
   "id": "a29990df-94e2-414c-bec3-05e051b49e99",
   "metadata": {},
   "outputs": [
    {
     "data": {
      "text/plain": [
       "'abhi'"
      ]
     },
     "execution_count": 28,
     "metadata": {},
     "output_type": "execute_result"
    }
   ],
   "source": [
    "l[-5]"
   ]
  },
  {
   "cell_type": "code",
   "execution_count": 31,
   "id": "a81fb363-4112-4ce0-8af1-33f43736102d",
   "metadata": {},
   "outputs": [],
   "source": [
    "l[3]= 800"
   ]
  },
  {
   "cell_type": "code",
   "execution_count": 33,
   "id": "81243b07-d4e7-4f58-9c1c-37033f8ccfd0",
   "metadata": {},
   "outputs": [
    {
     "data": {
      "text/plain": [
       "'abhi'"
      ]
     },
     "execution_count": 33,
     "metadata": {},
     "output_type": "execute_result"
    }
   ],
   "source": [
    "l[4]"
   ]
  },
  {
   "cell_type": "code",
   "execution_count": 34,
   "id": "23f6c619-eec6-4ecb-baa5-33c61fc988f6",
   "metadata": {},
   "outputs": [],
   "source": [
    "l[4]= \"kumar\""
   ]
  },
  {
   "cell_type": "code",
   "execution_count": 35,
   "id": "d6458c04-dbf5-4547-b682-6b85cff53699",
   "metadata": {},
   "outputs": [
    {
     "data": {
      "text/plain": [
       "[2, 3, 4, 800, 'kumar', 'gautam', 800, 75.69, True]"
      ]
     },
     "execution_count": 35,
     "metadata": {},
     "output_type": "execute_result"
    }
   ],
   "source": [
    "l"
   ]
  },
  {
   "cell_type": "code",
   "execution_count": 36,
   "id": "55bf0e70-e941-401c-8b91-130adc838a6b",
   "metadata": {},
   "outputs": [],
   "source": [
    "# l is mutable data type"
   ]
  },
  {
   "cell_type": "code",
   "execution_count": 37,
   "id": "8f0b1376-bc21-43a3-92fb-5f278fbf0215",
   "metadata": {},
   "outputs": [
    {
     "data": {
      "text/plain": [
       "'h'"
      ]
     },
     "execution_count": 37,
     "metadata": {},
     "output_type": "execute_result"
    }
   ],
   "source": [
    "s[2]"
   ]
  },
  {
   "cell_type": "code",
   "execution_count": 38,
   "id": "ec20c103-5db6-48c3-849d-6d166597ee41",
   "metadata": {},
   "outputs": [
    {
     "ename": "TypeError",
     "evalue": "'str' object does not support item assignment",
     "output_type": "error",
     "traceback": [
      "\u001b[0;31m---------------------------------------------------------------------------\u001b[0m",
      "\u001b[0;31mTypeError\u001b[0m                                 Traceback (most recent call last)",
      "Cell \u001b[0;32mIn[38], line 1\u001b[0m\n\u001b[0;32m----> 1\u001b[0m \u001b[43ms\u001b[49m\u001b[43m[\u001b[49m\u001b[38;5;241;43m2\u001b[39;49m\u001b[43m]\u001b[49m\u001b[38;5;241m=\u001b[39m \u001b[38;5;124m\"\u001b[39m\u001b[38;5;124mk\u001b[39m\u001b[38;5;124m\"\u001b[39m\n",
      "\u001b[0;31mTypeError\u001b[0m: 'str' object does not support item assignment"
     ]
    }
   ],
   "source": [
    "s[2]= \"k\""
   ]
  },
  {
   "cell_type": "code",
   "execution_count": null,
   "id": "5cdfca55-8859-444e-97e5-b12a00117db8",
   "metadata": {},
   "outputs": [],
   "source": [
    "# here s is immutable data type"
   ]
  }
 ],
 "metadata": {
  "kernelspec": {
   "display_name": "Python 3 (ipykernel)",
   "language": "python",
   "name": "python3"
  },
  "language_info": {
   "codemirror_mode": {
    "name": "ipython",
    "version": 3
   },
   "file_extension": ".py",
   "mimetype": "text/x-python",
   "name": "python",
   "nbconvert_exporter": "python",
   "pygments_lexer": "ipython3",
   "version": "3.10.8"
  }
 },
 "nbformat": 4,
 "nbformat_minor": 5
}
